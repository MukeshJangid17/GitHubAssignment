{
 "cells": [
  {
   "cell_type": "code",
   "execution_count": 1,
   "id": "762982f4",
   "metadata": {},
   "outputs": [],
   "source": [
    "import pandas as pd\n",
    "import numpy as np"
   ]
  },
  {
   "cell_type": "code",
   "execution_count": 2,
   "id": "f63b4be3",
   "metadata": {},
   "outputs": [],
   "source": [
    "df = pd.read_csv(\"Top 100 bollywood movies of all time.csv\")"
   ]
  },
  {
   "cell_type": "code",
   "execution_count": 3,
   "id": "53f517a0",
   "metadata": {},
   "outputs": [
    {
     "data": {
      "text/html": [
       "<div>\n",
       "<style scoped>\n",
       "    .dataframe tbody tr th:only-of-type {\n",
       "        vertical-align: middle;\n",
       "    }\n",
       "\n",
       "    .dataframe tbody tr th {\n",
       "        vertical-align: top;\n",
       "    }\n",
       "\n",
       "    .dataframe thead th {\n",
       "        text-align: right;\n",
       "    }\n",
       "</style>\n",
       "<table border=\"1\" class=\"dataframe\">\n",
       "  <thead>\n",
       "    <tr style=\"text-align: right;\">\n",
       "      <th></th>\n",
       "      <th>Unnamed: 0</th>\n",
       "      <th>Movie Name</th>\n",
       "      <th>Story</th>\n",
       "    </tr>\n",
       "  </thead>\n",
       "  <tbody>\n",
       "    <tr>\n",
       "      <th>0</th>\n",
       "      <td>0</td>\n",
       "      <td>100. Bobby (1973)</td>\n",
       "      <td>Rich Hindu adolescent lad Raja (Kapoor) falls ...</td>\n",
       "    </tr>\n",
       "    <tr>\n",
       "      <th>1</th>\n",
       "      <td>1</td>\n",
       "      <td>99. Hum Aapke Hain Koun…! (1994)</td>\n",
       "      <td>This 1990s blockbuster was directly responsibl...</td>\n",
       "    </tr>\n",
       "    <tr>\n",
       "      <th>2</th>\n",
       "      <td>2</td>\n",
       "      <td>98. Yeh Jawaani Hai Deewani (2013)</td>\n",
       "      <td>This romantic comedy fits the Bollywood templa...</td>\n",
       "    </tr>\n",
       "    <tr>\n",
       "      <th>3</th>\n",
       "      <td>3</td>\n",
       "      <td>97. Veer-Zaara (2004)</td>\n",
       "      <td>Yash Chopra, Bollywood’s most successful and r...</td>\n",
       "    </tr>\n",
       "    <tr>\n",
       "      <th>4</th>\n",
       "      <td>4</td>\n",
       "      <td>96. Umrao Jaan (1981)</td>\n",
       "      <td>This is an adaptation of Mirza Hadi Ruswa’s we...</td>\n",
       "    </tr>\n",
       "  </tbody>\n",
       "</table>\n",
       "</div>"
      ],
      "text/plain": [
       "   Unnamed: 0                          Movie Name  \\\n",
       "0           0                   100. Bobby (1973)   \n",
       "1           1    99. Hum Aapke Hain Koun…! (1994)   \n",
       "2           2  98. Yeh Jawaani Hai Deewani (2013)   \n",
       "3           3               97. Veer-Zaara (2004)   \n",
       "4           4               96. Umrao Jaan (1981)   \n",
       "\n",
       "                                               Story  \n",
       "0  Rich Hindu adolescent lad Raja (Kapoor) falls ...  \n",
       "1  This 1990s blockbuster was directly responsibl...  \n",
       "2  This romantic comedy fits the Bollywood templa...  \n",
       "3  Yash Chopra, Bollywood’s most successful and r...  \n",
       "4  This is an adaptation of Mirza Hadi Ruswa’s we...  "
      ]
     },
     "execution_count": 3,
     "metadata": {},
     "output_type": "execute_result"
    }
   ],
   "source": [
    "df.head()"
   ]
  },
  {
   "cell_type": "code",
   "execution_count": null,
   "id": "2b58b5b4",
   "metadata": {},
   "outputs": [],
   "source": []
  }
 ],
 "metadata": {
  "kernelspec": {
   "display_name": "Python 3 (ipykernel)",
   "language": "python",
   "name": "python3"
  },
  "language_info": {
   "codemirror_mode": {
    "name": "ipython",
    "version": 3
   },
   "file_extension": ".py",
   "mimetype": "text/x-python",
   "name": "python",
   "nbconvert_exporter": "python",
   "pygments_lexer": "ipython3",
   "version": "3.10.5"
  }
 },
 "nbformat": 4,
 "nbformat_minor": 5
}
